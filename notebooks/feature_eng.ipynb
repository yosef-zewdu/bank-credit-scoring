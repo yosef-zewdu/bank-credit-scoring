{
 "cells": [
  {
   "cell_type": "markdown",
   "metadata": {},
   "source": [
    "# Feature Engineering"
   ]
  },
  {
   "cell_type": "markdown",
   "metadata": {},
   "source": [
    "1.\tCreate Aggregate Features\n",
    "\tExample:\n",
    "-\tTotal Transaction Amount: Sum of all transaction amounts for each customer.\n",
    "-\tAverage Transaction Amount: Average transaction amount per customer.\n",
    "-\tTransaction Count: Number of transactions per customer.\n",
    "-\tStandard Deviation of Transaction Amounts: Variability of transaction amounts per customer.\n",
    "2.\tExtract Features\n",
    "\tExample:\n",
    "-\tTransaction Hour: The hour of the day when the transaction occurred.\n",
    "-\tTransaction Day: The day of the month when the transaction occurred.\n",
    "-\tTransaction Month: The month when the transaction occurred.\n",
    "-\tTransaction Year: The year when the transaction occurred.\n",
    "3.\tEncode Categorical Variables\n",
    "Convert categorical variables into numerical format by using:\n",
    "-\tOne-Hot Encoding: Converts categorical values into binary vectors.\n",
    "-\tLabel Encoding: Assigns a unique integer to each category.\n",
    "4.\tHandle Missing Values\n",
    "\tUse imputation or Removal to handle missing values\n",
    "-\tImputation: Filling missing values with mean, median, mode, or using more methods like KNN imputation.\n",
    "-\tRemoval: Removing rows or columns with missing values if they are few.\n",
    "5.\tNormalize/Standardize Numerical Features\n",
    "Normalization and standardization are scaling techniques used to bring all numerical features onto a similar scale.\n",
    "-\tNormalization: Scales the data to a range of [0, 1].\n",
    "-\tStandardization: Scales the data to have a mean of 0 and a standard deviation of 1.\n"
   ]
  },
  {
   "cell_type": "code",
   "execution_count": 53,
   "metadata": {},
   "outputs": [],
   "source": [
    "import pandas as pd\n",
    "import pytz\n",
    "import sys\n",
    "import os\n",
    "sys.path.append(os.path.abspath('../scripts'))\n",
    "\n",
    "import matplotlib.pyplot as plt\n",
    "import seaborn as sns\n",
    "import warnings\n",
    "warnings.filterwarnings(\"ignore\")\n",
    "\n",
    "from eda import *\n",
    "import prediction as dp\n",
    "from feature import *"
   ]
  },
  {
   "cell_type": "markdown",
   "metadata": {},
   "source": [
    "## Load data"
   ]
  },
  {
   "cell_type": "code",
   "execution_count": 54,
   "metadata": {},
   "outputs": [
    {
     "name": "stderr",
     "output_type": "stream",
     "text": [
      "2024-10-08 22:42:57,929 - INFO - Loading Data ...\n",
      "2024-10-08 22:42:58,479 - INFO - Loading Data Finshed\n"
     ]
    }
   ],
   "source": [
    "df , _ = load_data()"
   ]
  },
  {
   "cell_type": "code",
   "execution_count": 55,
   "metadata": {},
   "outputs": [
    {
     "data": {
      "text/plain": [
       "Index(['TransactionId', 'BatchId', 'AccountId', 'SubscriptionId', 'CustomerId',\n",
       "       'CurrencyCode', 'CountryCode', 'ProviderId', 'ProductId',\n",
       "       'ProductCategory', 'ChannelId', 'Amount', 'Value',\n",
       "       'TransactionStartTime', 'PricingStrategy', 'FraudResult'],\n",
       "      dtype='object')"
      ]
     },
     "execution_count": 55,
     "metadata": {},
     "output_type": "execute_result"
    }
   ],
   "source": [
    "df.columns"
   ]
  },
  {
   "cell_type": "markdown",
   "metadata": {},
   "source": [
    "## Aggregate "
   ]
  },
  {
   "cell_type": "code",
   "execution_count": 56,
   "metadata": {},
   "outputs": [],
   "source": [
    "df_agg = aggeregatef(df)"
   ]
  },
  {
   "cell_type": "code",
   "execution_count": 57,
   "metadata": {},
   "outputs": [
    {
     "data": {
      "text/html": [
       "<div>\n",
       "<style scoped>\n",
       "    .dataframe tbody tr th:only-of-type {\n",
       "        vertical-align: middle;\n",
       "    }\n",
       "\n",
       "    .dataframe tbody tr th {\n",
       "        vertical-align: top;\n",
       "    }\n",
       "\n",
       "    .dataframe thead th {\n",
       "        text-align: right;\n",
       "    }\n",
       "</style>\n",
       "<table border=\"1\" class=\"dataframe\">\n",
       "  <thead>\n",
       "    <tr style=\"text-align: right;\">\n",
       "      <th></th>\n",
       "      <th>Transaction_count</th>\n",
       "      <th>Total_Transaction</th>\n",
       "      <th>Average_Transaction</th>\n",
       "      <th>Transaction_std</th>\n",
       "    </tr>\n",
       "    <tr>\n",
       "      <th>CustomerId</th>\n",
       "      <th></th>\n",
       "      <th></th>\n",
       "      <th></th>\n",
       "      <th></th>\n",
       "    </tr>\n",
       "  </thead>\n",
       "  <tbody>\n",
       "    <tr>\n",
       "      <th>CustomerId_1</th>\n",
       "      <td>1</td>\n",
       "      <td>-10000.0</td>\n",
       "      <td>-10000.000000</td>\n",
       "      <td>NaN</td>\n",
       "    </tr>\n",
       "    <tr>\n",
       "      <th>CustomerId_10</th>\n",
       "      <td>1</td>\n",
       "      <td>-10000.0</td>\n",
       "      <td>-10000.000000</td>\n",
       "      <td>NaN</td>\n",
       "    </tr>\n",
       "    <tr>\n",
       "      <th>CustomerId_1001</th>\n",
       "      <td>5</td>\n",
       "      <td>20000.0</td>\n",
       "      <td>4000.000000</td>\n",
       "      <td>6558.963333</td>\n",
       "    </tr>\n",
       "    <tr>\n",
       "      <th>CustomerId_1002</th>\n",
       "      <td>11</td>\n",
       "      <td>4225.0</td>\n",
       "      <td>384.090909</td>\n",
       "      <td>560.498966</td>\n",
       "    </tr>\n",
       "    <tr>\n",
       "      <th>CustomerId_1003</th>\n",
       "      <td>6</td>\n",
       "      <td>20000.0</td>\n",
       "      <td>3333.333333</td>\n",
       "      <td>6030.478146</td>\n",
       "    </tr>\n",
       "    <tr>\n",
       "      <th>...</th>\n",
       "      <td>...</td>\n",
       "      <td>...</td>\n",
       "      <td>...</td>\n",
       "      <td>...</td>\n",
       "    </tr>\n",
       "    <tr>\n",
       "      <th>CustomerId_992</th>\n",
       "      <td>6</td>\n",
       "      <td>20000.0</td>\n",
       "      <td>3333.333333</td>\n",
       "      <td>6088.240030</td>\n",
       "    </tr>\n",
       "    <tr>\n",
       "      <th>CustomerId_993</th>\n",
       "      <td>5</td>\n",
       "      <td>20000.0</td>\n",
       "      <td>4000.000000</td>\n",
       "      <td>6745.368782</td>\n",
       "    </tr>\n",
       "    <tr>\n",
       "      <th>CustomerId_994</th>\n",
       "      <td>101</td>\n",
       "      <td>543873.0</td>\n",
       "      <td>5384.881188</td>\n",
       "      <td>14800.656784</td>\n",
       "    </tr>\n",
       "    <tr>\n",
       "      <th>CustomerId_996</th>\n",
       "      <td>17</td>\n",
       "      <td>139000.0</td>\n",
       "      <td>8176.470588</td>\n",
       "      <td>4433.329648</td>\n",
       "    </tr>\n",
       "    <tr>\n",
       "      <th>CustomerId_998</th>\n",
       "      <td>22</td>\n",
       "      <td>100000.0</td>\n",
       "      <td>4545.454545</td>\n",
       "      <td>6775.145563</td>\n",
       "    </tr>\n",
       "  </tbody>\n",
       "</table>\n",
       "<p>3742 rows × 4 columns</p>\n",
       "</div>"
      ],
      "text/plain": [
       "                 Transaction_count  Total_Transaction  Average_Transaction  \\\n",
       "CustomerId                                                                   \n",
       "CustomerId_1                     1           -10000.0        -10000.000000   \n",
       "CustomerId_10                    1           -10000.0        -10000.000000   \n",
       "CustomerId_1001                  5            20000.0          4000.000000   \n",
       "CustomerId_1002                 11             4225.0           384.090909   \n",
       "CustomerId_1003                  6            20000.0          3333.333333   \n",
       "...                            ...                ...                  ...   \n",
       "CustomerId_992                   6            20000.0          3333.333333   \n",
       "CustomerId_993                   5            20000.0          4000.000000   \n",
       "CustomerId_994                 101           543873.0          5384.881188   \n",
       "CustomerId_996                  17           139000.0          8176.470588   \n",
       "CustomerId_998                  22           100000.0          4545.454545   \n",
       "\n",
       "                 Transaction_std  \n",
       "CustomerId                        \n",
       "CustomerId_1                 NaN  \n",
       "CustomerId_10                NaN  \n",
       "CustomerId_1001      6558.963333  \n",
       "CustomerId_1002       560.498966  \n",
       "CustomerId_1003      6030.478146  \n",
       "...                          ...  \n",
       "CustomerId_992       6088.240030  \n",
       "CustomerId_993       6745.368782  \n",
       "CustomerId_994      14800.656784  \n",
       "CustomerId_996       4433.329648  \n",
       "CustomerId_998       6775.145563  \n",
       "\n",
       "[3742 rows x 4 columns]"
      ]
     },
     "execution_count": 57,
     "metadata": {},
     "output_type": "execute_result"
    }
   ],
   "source": [
    "df_agg"
   ]
  },
  {
   "cell_type": "code",
   "execution_count": 132,
   "metadata": {},
   "outputs": [
    {
     "data": {
      "text/html": [
       "<div>\n",
       "<style scoped>\n",
       "    .dataframe tbody tr th:only-of-type {\n",
       "        vertical-align: middle;\n",
       "    }\n",
       "\n",
       "    .dataframe tbody tr th {\n",
       "        vertical-align: top;\n",
       "    }\n",
       "\n",
       "    .dataframe thead th {\n",
       "        text-align: right;\n",
       "    }\n",
       "</style>\n",
       "<table border=\"1\" class=\"dataframe\">\n",
       "  <thead>\n",
       "    <tr style=\"text-align: right;\">\n",
       "      <th></th>\n",
       "      <th>Transaction_count</th>\n",
       "      <th>Total_Transaction</th>\n",
       "      <th>Average_Transaction</th>\n",
       "      <th>Transaction_std</th>\n",
       "    </tr>\n",
       "    <tr>\n",
       "      <th>CustomerId</th>\n",
       "      <th></th>\n",
       "      <th></th>\n",
       "      <th></th>\n",
       "      <th></th>\n",
       "    </tr>\n",
       "  </thead>\n",
       "  <tbody>\n",
       "    <tr>\n",
       "      <th>CustomerId_1</th>\n",
       "      <td>1</td>\n",
       "      <td>-10000.0</td>\n",
       "      <td>-10000.000000</td>\n",
       "      <td>NaN</td>\n",
       "    </tr>\n",
       "    <tr>\n",
       "      <th>CustomerId_2690</th>\n",
       "      <td>1</td>\n",
       "      <td>1000.0</td>\n",
       "      <td>1000.000000</td>\n",
       "      <td>NaN</td>\n",
       "    </tr>\n",
       "    <tr>\n",
       "      <th>CustomerId_2694</th>\n",
       "      <td>1</td>\n",
       "      <td>1000.0</td>\n",
       "      <td>1000.000000</td>\n",
       "      <td>NaN</td>\n",
       "    </tr>\n",
       "    <tr>\n",
       "      <th>CustomerId_2698</th>\n",
       "      <td>1</td>\n",
       "      <td>500.0</td>\n",
       "      <td>500.000000</td>\n",
       "      <td>NaN</td>\n",
       "    </tr>\n",
       "    <tr>\n",
       "      <th>CustomerId_2703</th>\n",
       "      <td>1</td>\n",
       "      <td>500000.0</td>\n",
       "      <td>500000.000000</td>\n",
       "      <td>NaN</td>\n",
       "    </tr>\n",
       "    <tr>\n",
       "      <th>...</th>\n",
       "      <td>...</td>\n",
       "      <td>...</td>\n",
       "      <td>...</td>\n",
       "      <td>...</td>\n",
       "    </tr>\n",
       "    <tr>\n",
       "      <th>CustomerId_4033</th>\n",
       "      <td>778</td>\n",
       "      <td>1768355.5</td>\n",
       "      <td>2272.950514</td>\n",
       "      <td>10382.687289</td>\n",
       "    </tr>\n",
       "    <tr>\n",
       "      <th>CustomerId_1096</th>\n",
       "      <td>784</td>\n",
       "      <td>1949226.0</td>\n",
       "      <td>2486.257653</td>\n",
       "      <td>17819.372757</td>\n",
       "    </tr>\n",
       "    <tr>\n",
       "      <th>CustomerId_647</th>\n",
       "      <td>1869</td>\n",
       "      <td>3633564.0</td>\n",
       "      <td>1944.121990</td>\n",
       "      <td>7715.389537</td>\n",
       "    </tr>\n",
       "    <tr>\n",
       "      <th>CustomerId_3634</th>\n",
       "      <td>2085</td>\n",
       "      <td>2628793.0</td>\n",
       "      <td>1260.811990</td>\n",
       "      <td>5388.206928</td>\n",
       "    </tr>\n",
       "    <tr>\n",
       "      <th>CustomerId_7343</th>\n",
       "      <td>4091</td>\n",
       "      <td>-104900000.0</td>\n",
       "      <td>-25641.652408</td>\n",
       "      <td>12952.599898</td>\n",
       "    </tr>\n",
       "  </tbody>\n",
       "</table>\n",
       "<p>3742 rows × 4 columns</p>\n",
       "</div>"
      ],
      "text/plain": [
       "                 Transaction_count  Total_Transaction  Average_Transaction  \\\n",
       "CustomerId                                                                   \n",
       "CustomerId_1                     1           -10000.0        -10000.000000   \n",
       "CustomerId_2690                  1             1000.0          1000.000000   \n",
       "CustomerId_2694                  1             1000.0          1000.000000   \n",
       "CustomerId_2698                  1              500.0           500.000000   \n",
       "CustomerId_2703                  1           500000.0        500000.000000   \n",
       "...                            ...                ...                  ...   \n",
       "CustomerId_4033                778          1768355.5          2272.950514   \n",
       "CustomerId_1096                784          1949226.0          2486.257653   \n",
       "CustomerId_647                1869          3633564.0          1944.121990   \n",
       "CustomerId_3634               2085          2628793.0          1260.811990   \n",
       "CustomerId_7343               4091       -104900000.0        -25641.652408   \n",
       "\n",
       "                 Transaction_std  \n",
       "CustomerId                        \n",
       "CustomerId_1                 NaN  \n",
       "CustomerId_2690              NaN  \n",
       "CustomerId_2694              NaN  \n",
       "CustomerId_2698              NaN  \n",
       "CustomerId_2703              NaN  \n",
       "...                          ...  \n",
       "CustomerId_4033     10382.687289  \n",
       "CustomerId_1096     17819.372757  \n",
       "CustomerId_647       7715.389537  \n",
       "CustomerId_3634      5388.206928  \n",
       "CustomerId_7343     12952.599898  \n",
       "\n",
       "[3742 rows x 4 columns]"
      ]
     },
     "execution_count": 132,
     "metadata": {},
     "output_type": "execute_result"
    }
   ],
   "source": [
    "df_agg.sort_values(by='Transaction_count')"
   ]
  },
  {
   "cell_type": "markdown",
   "metadata": {},
   "source": [
    "## Feature Extraction "
   ]
  },
  {
   "cell_type": "code",
   "execution_count": 62,
   "metadata": {},
   "outputs": [],
   "source": [
    "dff = df.copy()\n",
    "# Convert the 'transaction_start_time' to datetime and localize to UTC\n",
    "dff['TransactionStartTime'] = pd.to_datetime(dff['TransactionStartTime']).dt.tz_convert('UTC')\n",
    "\n",
    "# # Convert to Uganda time (UTC+3)\n",
    "# uganda_tz = pytz.timezone('Africa/Kampala')\n",
    "# dff['TransactionStartTime_Uganda'] = dff['TransactionStartTime'].dt.tz_convert(uganda_tz)\n"
   ]
  },
  {
   "cell_type": "code",
   "execution_count": 63,
   "metadata": {},
   "outputs": [],
   "source": [
    "dff['TransactionYear'] =  dff['TransactionStartTime'].dt.year\n",
    "dff['TransactionMonth'] = dff['TransactionStartTime'].dt.month\n",
    "dff['TransactionDay'] = dff['TransactionStartTime'].dt.day\n",
    "dff['TransactionHour'] = dff['TransactionStartTime'].dt.hour"
   ]
  },
  {
   "cell_type": "code",
   "execution_count": 64,
   "metadata": {},
   "outputs": [
    {
     "name": "stdout",
     "output_type": "stream",
     "text": [
      "Start Date: 2018-11-15 02:18:49+00:00\n",
      "End Date: 2019-02-13 10:01:28+00:00\n"
     ]
    }
   ],
   "source": [
    "# Find the start and end dates\n",
    "start_date = dff['TransactionStartTime'].min()\n",
    "end_date = dff['TransactionStartTime'].max()\n",
    "\n",
    "# Display the results\n",
    "print(\"Start Date:\", start_date)\n",
    "print(\"End Date:\", end_date)"
   ]
  },
  {
   "cell_type": "code",
   "execution_count": 68,
   "metadata": {},
   "outputs": [],
   "source": [
    "dff['rec'] = end_date - dff['TransactionStartTime'] \n",
    "dff['Recency'] = dff['rec'].dt.days"
   ]
  },
  {
   "cell_type": "code",
   "execution_count": 115,
   "metadata": {},
   "outputs": [],
   "source": [
    "\n",
    "# Calculate Recency\n",
    "dff['recency'] = (end_date - dff.groupby('CustomerId')['TransactionStartTime_Uganda'].max()).dt.days"
   ]
  },
  {
   "cell_type": "code",
   "execution_count": 65,
   "metadata": {},
   "outputs": [
    {
     "data": {
      "text/plain": [
       "Index(['TransactionId', 'BatchId', 'AccountId', 'SubscriptionId', 'CustomerId',\n",
       "       'CurrencyCode', 'CountryCode', 'ProviderId', 'ProductId',\n",
       "       'ProductCategory', 'ChannelId', 'Amount', 'Value',\n",
       "       'TransactionStartTime', 'PricingStrategy', 'FraudResult',\n",
       "       'TransactionYear', 'TransactionMonth', 'TransactionDay',\n",
       "       'TransactionHour'],\n",
       "      dtype='object')"
      ]
     },
     "execution_count": 65,
     "metadata": {},
     "output_type": "execute_result"
    }
   ],
   "source": [
    "dff.columns"
   ]
  },
  {
   "cell_type": "code",
   "execution_count": 18,
   "metadata": {},
   "outputs": [
    {
     "data": {
      "text/plain": [
       "CustomerId\n",
       "CustomerId_1      2018-11-21 19:49:14+03:00\n",
       "CustomerId_10     2018-11-21 19:49:09+03:00\n",
       "CustomerId_1001   2018-11-16 11:20:39+03:00\n",
       "CustomerId_1002   2019-01-18 13:05:00+03:00\n",
       "CustomerId_1003   2019-02-01 18:04:51+03:00\n",
       "                             ...           \n",
       "CustomerId_992    2019-02-08 13:27:42+03:00\n",
       "CustomerId_993    2019-01-18 18:56:30+03:00\n",
       "CustomerId_994    2019-02-12 14:17:08+03:00\n",
       "CustomerId_996    2018-12-07 18:24:31+03:00\n",
       "CustomerId_998    2019-02-13 10:47:23+03:00\n",
       "Name: TransactionStartTime_Uganda, Length: 3742, dtype: datetime64[ns, Africa/Kampala]"
      ]
     },
     "execution_count": 18,
     "metadata": {},
     "output_type": "execute_result"
    }
   ],
   "source": [
    "latest_transaction = dff.groupby('CustomerId')['TransactionStartTime_Uganda'].max()\n",
    "latest_transaction"
   ]
  },
  {
   "cell_type": "markdown",
   "metadata": {},
   "source": [
    "## Model preparing "
   ]
  },
  {
   "cell_type": "code",
   "execution_count": 6,
   "metadata": {},
   "outputs": [],
   "source": [
    "categorical_feature = [    'ProviderId', 'ProductId',\n",
    "                        'ProductCategory', 'ChannelId',  'PricingStrategy']\n",
    "\n",
    "num_cat = [ 'Amount', 'TransactionYear', 'TransactionMonth',\n",
    "       'TransactionDay', 'TransactionHour']\n"
   ]
  },
  {
   "cell_type": "code",
   "execution_count": 7,
   "metadata": {},
   "outputs": [
    {
     "name": "stdout",
     "output_type": "stream",
     "text": [
      "(95662, 10)\n"
     ]
    }
   ],
   "source": [
    "all_feature = categorical_feature + num_cat\n",
    "df_feat = dff[all_feature]\n",
    "print(df_feat.shape)\n"
   ]
  },
  {
   "cell_type": "code",
   "execution_count": 8,
   "metadata": {},
   "outputs": [
    {
     "data": {
      "text/plain": [
       "Index(['ProviderId', 'ProductId', 'ProductCategory', 'ChannelId',\n",
       "       'PricingStrategy', 'Amount', 'TransactionYear', 'TransactionMonth',\n",
       "       'TransactionDay', 'TransactionHour'],\n",
       "      dtype='object')"
      ]
     },
     "execution_count": 8,
     "metadata": {},
     "output_type": "execute_result"
    }
   ],
   "source": [
    "df_feat.columns"
   ]
  },
  {
   "cell_type": "code",
   "execution_count": 133,
   "metadata": {},
   "outputs": [
    {
     "name": "stdout",
     "output_type": "stream",
     "text": [
      "<class 'pandas.core.frame.DataFrame'>\n",
      "RangeIndex: 95662 entries, 0 to 95661\n",
      "Data columns (total 10 columns):\n",
      " #   Column            Non-Null Count  Dtype  \n",
      "---  ------            --------------  -----  \n",
      " 0   ProviderId        95662 non-null  object \n",
      " 1   ProductId         95662 non-null  object \n",
      " 2   ProductCategory   95662 non-null  object \n",
      " 3   ChannelId         95662 non-null  object \n",
      " 4   PricingStrategy   95662 non-null  int64  \n",
      " 5   Amount            95662 non-null  float64\n",
      " 6   TransactionYear   95662 non-null  int32  \n",
      " 7   TransactionMonth  95662 non-null  int32  \n",
      " 8   TransactionDay    95662 non-null  int32  \n",
      " 9   TransactionHour   95662 non-null  int32  \n",
      "dtypes: float64(1), int32(4), int64(1), object(4)\n",
      "memory usage: 5.8+ MB\n"
     ]
    }
   ],
   "source": [
    "df_feat.info()"
   ]
  },
  {
   "cell_type": "code",
   "execution_count": 16,
   "metadata": {},
   "outputs": [],
   "source": [
    "from sklearn.preprocessing import LabelEncoder, StandardScaler, MinMaxScaler, OneHotEncoder\n",
    "import joblib"
   ]
  },
  {
   "cell_type": "code",
   "execution_count": 20,
   "metadata": {},
   "outputs": [],
   "source": [
    "df_label = encoder('oneHotEncoder', df_feat, categorical_feature)"
   ]
  },
  {
   "cell_type": "code",
   "execution_count": 21,
   "metadata": {},
   "outputs": [
    {
     "data": {
      "text/plain": [
       "(95662, 46)"
      ]
     },
     "execution_count": 21,
     "metadata": {},
     "output_type": "execute_result"
    }
   ],
   "source": [
    "df_label.shape"
   ]
  },
  {
   "cell_type": "code",
   "execution_count": 22,
   "metadata": {},
   "outputs": [],
   "source": [
    "df_scaled = dp.scaler('standardScaler', df_label, num_cat)"
   ]
  },
  {
   "cell_type": "code",
   "execution_count": 23,
   "metadata": {},
   "outputs": [
    {
     "data": {
      "text/plain": [
       "(95662, 46)"
      ]
     },
     "execution_count": 23,
     "metadata": {},
     "output_type": "execute_result"
    }
   ],
   "source": [
    "df_scaled.shape"
   ]
  },
  {
   "cell_type": "code",
   "execution_count": 24,
   "metadata": {},
   "outputs": [],
   "source": [
    "from scipy.stats import chi2_contingency, ttest_ind\n",
    "from sklearn.preprocessing import LabelEncoder, StandardScaler, MinMaxScaler\n",
    "from sklearn.linear_model import LinearRegression\n",
    "from sklearn.tree import DecisionTreeRegressor\n",
    "from sklearn.ensemble import RandomForestRegressor\n",
    "from sklearn.model_selection import train_test_split\n",
    "from sklearn.metrics import mean_absolute_error, mean_squared_error, r2_score, accuracy_score"
   ]
  },
  {
   "cell_type": "code",
   "execution_count": 30,
   "metadata": {},
   "outputs": [],
   "source": [
    "def split_data(X, y, test_size=0.2, random_state=42):\n",
    "    return train_test_split(X, y, test_size=test_size, random_state=random_state)\n",
    "\n",
    "# Split the data\n",
    "X = df_scaled.copy()\n",
    "y = dff['FraudResult']\n",
    "X_train, X_test, y_train, y_test = split_data(X, y)"
   ]
  }
 ],
 "metadata": {
  "kernelspec": {
   "display_name": "Python 3",
   "language": "python",
   "name": "python3"
  },
  "language_info": {
   "codemirror_mode": {
    "name": "ipython",
    "version": 3
   },
   "file_extension": ".py",
   "mimetype": "text/x-python",
   "name": "python",
   "nbconvert_exporter": "python",
   "pygments_lexer": "ipython3",
   "version": "3.12.5"
  }
 },
 "nbformat": 4,
 "nbformat_minor": 2
}
